{
 "cells": [
  {
   "cell_type": "code",
   "execution_count": null,
   "metadata": {},
   "outputs": [
    {
     "name": "stderr",
     "output_type": "stream",
     "text": [
      "In file included from input_line_7:3:\n",
      "\u001b[1m./Hindernis.hpp:11:7: \u001b[0m\u001b[0;1;31merror: \u001b[0m\u001b[1muse of undeclared identifier 'Hindernis'\u001b[0m\n",
      "class Hindernis::Rect {\n",
      "\u001b[0;1;32m      ^\n",
      "\u001b[0m"
     ]
    }
   ],
   "source": [
    "#include <algoviz/SVG.hpp>\n",
    "#include \"Protagonist.hpp\"\n",
    "#include \"Hindernis.hpp\"\n",
    "#inclue \"Item.hpp\"\n",
    "AlgoViz::clear();\n",
    "\n",
    "SVG view = SVG(600, 500, \"Level 1\");\n",
    "view.drawRect(0, 0, 600, 500);\n",
    "\n",
    "view.setStatusMsg(\"Drücken Sie x zu beenden!\");\n",
    "\n",
    "MouseState maus;\n",
    "string taste = \"\"\n",
    "\n",
    "//Spieler\n",
    "Protagonist spieler = Protagonist(&view);\n",
    "\n",
    "//Karte des Levels\n",
    "int v = 10;\n",
    "Level levelMap = Level(v);\n",
    "\n",
    "//iterator\n",
    "int i = 0;\n",
    "bool anfang = true;\n",
    "int sprungAnfang = 0;\n",
    "int sprungDauer;\n",
    "bool schonGesprungen = false;\n"
   ]
  },
  {
   "cell_type": "code",
   "execution_count": null,
   "metadata": {},
   "outputs": [],
   "source": [
    "while (taste != \"x\") {\n",
    "    \n",
    "    taste = view.lastKey();\n",
    "\n",
    "    if (i == levelKarte.getSize()) {\n",
    "        for (int j = 0; j < 50; j++) {\n",
    "            move(obstacles);\n",
    "        }\n",
    "        taste = \"x\";\n",
    "    }\n",
    "\n",
    "    if (level1[i] == 0) {\n",
    "        for (int j = 0; j < 10; j++) {\n",
    "            move(obstacles);\n",
    "        }\n",
    "    }\n",
    "    else {\n",
    "        createBrick(obstacles, brick);\n",
    "        move(obstacles);\n",
    "    }\n",
    "\n",
    "    if (taste == \"ArrowUp\" && spieler.getX() > 200) {\n",
    "        \n",
    "        /*if(anfang){\n",
    "            sprungAnfang = i;\n",
    "            sprungDauer = sprungAnfang + 10;\n",
    "            anfang = false;\n",
    "        }\n",
    "        \n",
    "        if( i < sprungDauer+5){ */\n",
    "            spieler.springtHoch();  \n",
    "            \n",
    "        /* }else{\n",
    "            spieler.faellt();\n",
    "        }\n",
    "        \n",
    "        \n",
    "         if(i == sprungDauer){\n",
    "             anfang = true;\n",
    "         }\n",
    "        */\n",
    "        \n",
    "    }\n",
    "\n",
    "    if (taste == \"ArrowDown\") {\n",
    "        spieler.springerunter();\n",
    "    }\n",
    "\n",
    "    AlgoViz::sleep(5);\n",
    "    i++;\n",
    "    taste = \" \";\n",
    "}\n",
    "\n",
    "view.setStatusMsg(\"Ende!\");"
   ]
  }
 ],
 "metadata": {
  "kernelspec": {
   "display_name": "C++17",
   "language": "C++17",
   "name": "xcpp17"
  },
  "language_info": {
   "codemirror_mode": "text/x-c++src",
   "file_extension": ".cpp",
   "mimetype": "text/x-c++src",
   "name": "c++",
   "version": "17"
  }
 },
 "nbformat": 4,
 "nbformat_minor": 4
}
