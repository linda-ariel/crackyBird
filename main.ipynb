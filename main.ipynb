{
 "cells": [
  {
   "cell_type": "code",
   "execution_count": null,
   "metadata": {},
   "outputs": [
    {
     "name": "stderr",
     "output_type": "stream",
     "text": [
      "In file included from input_line_7:3:\n",
      "\u001b[1m./Hindernis.hpp:11:7: \u001b[0m\u001b[0;1;31merror: \u001b[0m\u001b[1muse of undeclared identifier 'Hindernis'\u001b[0m\n",
      "class Hindernis::Rect {\n",
      "\u001b[0;1;32m      ^\n",
      "\u001b[0m"
     ]
    }
   ],
   "source": [
    "#include <algoviz/SVG.hpp>\n",
    "#include \"Protagonist.hpp\"\n",
    "#include \"Hindernis.hpp\"\n",
    "#inclue \"Item.hpp\"\n",
    "AlgoViz::clear();\n",
    "\n",
    MouseState maus;
    SVG regeln1 = SVG(600, 500);

    Rect hintergrund = Rect(297,247,6,6,&regeln1);
    int xKoord = 297;
    int yKoord = 247;
    int weite = 6;
    hintergrund.setColor("transparent");
    hintergrund.setFill(48,92,232,0.1);
    double transparenz = 0.1;
    for ( int i = 0; i < 60; i++ ){
        weite = weite + 10;
        xKoord = xKoord - 5;
        yKoord = yKoord - 5;
        hintergrund.setWidth(weite);
        hintergrund.setHeight(weite);
        hintergrund.moveTo(xKoord,yKoord);
        transparenz = transparenz + 0.01;
        hintergrund.setFill(48,92,232,transparenz);
        AlgoViz::sleep(5);
    }
    Rect button = Rect(140,430,300,40,3,3,&regeln1);
    button.setColor("transparent");
    button.setFill(45,243,196,0.9);

    regeln1.drawText("So wird CrackyBird gespielt...", 100, 50, 30, "century");
    regeln1.drawText("Hindernisse sind ..., die am Boden ", 50, 120, 20, "century");
    regeln1.drawText("oder über dir erscheinen können: ", 70, 160, 20, "century");
    regeln1.drawText("1) Springe über oder auf Hindernisse, ", 50, 200, 20, "century");
    regeln1.drawText("die am Boden erscheinen", 70, 240, 20, "century");
    regeln1.drawText("2) Krieche unter Hindernissen durch,", 50, 280, 20, "century");
    regeln1.drawText("die über dir erscheinen", 70, 320, 20, "century");
    regeln1.drawText("3) Items sind ... ", 50, 360, 20, "century");
    regeln1.drawText("...Sammle sie ein, du kannst sie später nutzen!", 70, 400, 20, "century");
    regeln1.drawText("So weit, so gut", 180, 460, 30, "century");

    do {
        maus = regeln1.waitForClick();
    } while ( maus.isLegal() == false || maus.x() < 140 || maus.x() > 440 || maus.y() < 430 || maus.y() > 470 );

    AlgoViz::clear();

    SVG regeln2 = SVG(600, 500);

    Rect hintergrund1 = Rect(0,0,600,500,&regeln2);
    hintergrund1.setColor("transparent");
    hintergrund1.setFill(48,92,232,0.7);
    Rect button1 = Rect(140,430,300,40,3,3,&regeln2);
    button1.setColor("transparent");
    button1.setFill(45,243,196,0.9);

    regeln2.drawText("So wird CrackyBird gespielt...", 100, 50, 30, "century");
    regeln2.drawText("4) Pass auf deine schlimmsten Feinde auf, PRÜFUNGEN!", 30, 120, 20, "century");
    regeln2.drawText("Töte sie, indem du AUF sie springst", 50, 160, 20, "century");
    regeln2.drawText("...tötest du sie, so erhälst du ein weiteres Leben,", 50, 200, 20, "century");
    regeln2.drawText("...andererseits verlierst du eins", 50, 240, 20, "century");
    regeln2.drawText("5) Überlebst du ein Semester, dann kommst du ins nächste!", 30, 280, 20, "century");
    regeln2.drawText("...Es wird also alles noch etwas kniffliger", 50, 320, 20, "century");
    regeln2.drawText("Hab ich verstanden!", 150, 460, 30, "century");

    do {
        maus = regeln2.waitForClick();
    } while ( maus.isLegal() == false || maus.x() < 140 || maus.x() > 440 || maus.y() < 430 || maus.y() > 470 );

    AlgoViz::clear();

    SVG steuerung = SVG(600, 500);

    Rect hintergrund2 = Rect(0,0,600,500,&steuerung);
    hintergrund2.setColor("transparent");
    hintergrund2.setFill(48,92,232,0.7);
    Rect button2 = Rect(140,430,300,40,3,3,&steuerung);
    button2.setColor("transparent");
    button2.setFill(45,243,196,0.9);


    steuerung.drawText("Ein bisschen was zur Steuerung...", 70, 50, 30, "century");
    steuerung.drawText("1) Sprung: Halte die Pfeiltaste nach OBEN gedrückt,", 50, 120, 20, "century");
    steuerung.drawText("solange dein Sprung anhalten soll", 70, 160, 20, "century");
    steuerung.drawText("...Aber pass auf! Du kannst auch nicht ewig springen!", 70, 200, 20, "century");
    steuerung.drawText("2) Kriechen: Drücke einmal die Pfeiltaste nach UNTEN,", 50, 240, 20, "century");
    steuerung.drawText("um unter einem Hindernis hindurchzukriechen", 70, 280, 20, "century");
    steuerung.drawText("und drücke die Pfeiltaste nach OBEN, um wieder mit", 70, 320, 20, "century");
    steuerung.drawText("dem Laufen zu beginnen", 70, 360, 20, "century");
    steuerung.drawText("Kann's los gehen?!", 160, 460, 30, "century");

    do {
        maus = steuerung.waitForClick();
    } while ( maus.isLegal() == false || maus.x() < 140 || maus.x() > 440 || maus.y() < 440 || maus.y() > 470 );

    AlgoViz::clear();

    "SVG view = SVG(600, 500, \"Level 1\");\n",
    "view.drawRect(0, 0, 600, 500);\n",
    "\n",
    "view.setStatusMsg(\"Drücken Sie x zu beenden!\");\n",
    "\n",
    "string taste = \"\"\n",
    "\n",
    "//Spieler\n",
    "Protagonist spieler = Protagonist(&view);\n",
    "\n",
    "//Karte des Levels\n",
    "int v = 10;\n",
    "Level levelMap = Level(v);\n",
    "\n",
    "//iterator\n",
    "int i = 0;\n",
    "bool anfang = true;\n",
    "int sprungAnfang = 0;\n",
    "int sprungDauer;\n",
    "bool schonGesprungen = false;\n"
   ]
  },
  {
   "cell_type": "code",
   "execution_count": null,
   "metadata": {},
   "outputs": [],
   "source": [
    "while (taste != \"x\") {\n",
    "    \n",
    "    taste = view.lastKey();\n",
    "\n",
    "    if (i == levelKarte.getSize()) {\n",
    "        for (int j = 0; j < 50; j++) {\n",
    "            move(obstacles);\n",
    "        }\n",
    "        taste = \"x\";\n",
    "    }\n",
    "\n",
    "    if (level1[i] == 0) {\n",
    "        for (int j = 0; j < 10; j++) {\n",
    "            move(obstacles);\n",
    "        }\n",
    "    }\n",
    "    else {\n",
    "        createBrick(obstacles, brick);\n",
    "        move(obstacles);\n",
    "    }\n",
    "\n",
    "    if (taste == \"ArrowUp\" && spieler.getX() > 200) {\n",
    "        \n",
    "        /*if(anfang){\n",
    "            sprungAnfang = i;\n",
    "            sprungDauer = sprungAnfang + 10;\n",
    "            anfang = false;\n",
    "        }\n",
    "        \n",
    "        if( i < sprungDauer+5){ */\n",
    "            spieler.springtHoch();  \n",
    "            \n",
    "        /* }else{\n",
    "            spieler.faellt();\n",
    "        }\n",
    "        \n",
    "        \n",
    "         if(i == sprungDauer){\n",
    "             anfang = true;\n",
    "         }\n",
    "        */\n",
    "        \n",
    "    }\n",
    "\n",
    "    if (taste == \"ArrowDown\") {\n",
    "        spieler.springerunter();\n",
    "    }\n",
    "\n",
    "    AlgoViz::sleep(5);\n",
    "    i++;\n",
    "    taste = \" \";\n",
    "}\n",
    "\n",
    "view.setStatusMsg(\"Ende!\");"
   ]
  }
 ],
 "metadata": {
  "kernelspec": {
   "display_name": "C++17",
   "language": "C++17",
   "name": "xcpp17"
  },
  "language_info": {
   "codemirror_mode": "text/x-c++src",
   "file_extension": ".cpp",
   "mimetype": "text/x-c++src",
   "name": "c++",
   "version": "17"
  }
 },
 "nbformat": 4,
 "nbformat_minor": 4
}
